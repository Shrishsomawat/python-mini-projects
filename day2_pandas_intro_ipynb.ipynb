{
  "nbformat": 4,
  "nbformat_minor": 0,
  "metadata": {
    "colab": {
      "provenance": [],
      "authorship_tag": "ABX9TyNcHEJjs+CxZfQerv4R1eo4",
      "include_colab_link": true
    },
    "kernelspec": {
      "name": "python3",
      "display_name": "Python 3"
    },
    "language_info": {
      "name": "python"
    }
  },
  "cells": [
    {
      "cell_type": "markdown",
      "metadata": {
        "id": "view-in-github",
        "colab_type": "text"
      },
      "source": [
        "<a href=\"https://colab.research.google.com/github/Shrishsomawat/python-mini-projects/blob/main/day2_pandas_intro_ipynb.ipynb\" target=\"_parent\"><img src=\"https://colab.research.google.com/assets/colab-badge.svg\" alt=\"Open In Colab\"/></a>"
      ]
    },
    {
      "cell_type": "code",
      "execution_count": 6,
      "metadata": {
        "colab": {
          "base_uri": "https://localhost:8080/"
        },
        "id": "3AuhusA8O1B8",
        "outputId": "8b836944-b468-445f-f571-0a22a23480c8"
      },
      "outputs": [
        {
          "output_type": "stream",
          "name": "stdout",
          "text": [
            "    cars  passings\n",
            "0    BMW         3\n",
            "1  VOLVO         7\n",
            "2   FORD         2\n"
          ]
        }
      ],
      "source": [
        "import pandas\n",
        "\n",
        "mydataSet = {\n",
        "    'cars' : [\"BMW\" , \"VOLVO\", \"FORD\"],\n",
        "    'passings' : [3, 7, 2]\n",
        "}\n",
        "\n",
        "myVar = pandas.DataFrame(mydataSet)\n",
        "print(myVar)\n"
      ]
    },
    {
      "cell_type": "code",
      "source": [
        "Vrids = {\n",
        "    'Vrids' : ['I8WDS8HDS8', '1B8743G889' , '3IO483HR389'],\n",
        "    'cases' : ['12345678','975979450','8754859459']\n",
        "\n",
        "}\n",
        "\n",
        "myVrid = pandas.DataFrame(Vrids)\n",
        "print(myVrid)"
      ],
      "metadata": {
        "colab": {
          "base_uri": "https://localhost:8080/"
        },
        "id": "WYLWQq2nRYLL",
        "outputId": "d04bae21-8276-45ba-a5de-3c8af55edda0"
      },
      "execution_count": 10,
      "outputs": [
        {
          "output_type": "stream",
          "name": "stdout",
          "text": [
            "         Vrids       cases\n",
            "0   I8WDS8HDS8    12345678\n",
            "1   1B8743G889   975979450\n",
            "2  3IO483HR389  8754859459\n"
          ]
        }
      ]
    }
  ]
}